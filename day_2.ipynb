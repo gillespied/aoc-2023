{
 "cells": [
  {
   "cell_type": "code",
   "execution_count": 165,
   "metadata": {},
   "outputs": [],
   "source": [
    "import pandas as pd\n",
    "import re\n",
    "\n",
    "# games = pd.read_csv(\"day2_test.txt\", delimiter=\":\", header=None)\n",
    "games = pd.read_csv(\"day_2.txt\", delimiter=\":\", header=None)\n",
    "games.columns = ['number', 'outcome']"
   ]
  },
  {
   "cell_type": "code",
   "execution_count": 166,
   "metadata": {},
   "outputs": [],
   "source": [
    "games['outcome']  = games.outcome.str.split(\";\")\n",
    "games['number'] = games['number'].str.split(\" \", expand=True)[1].astype(int)\n",
    "games = games.explode(\"outcome\")\n",
    "\n",
    "def count_colour(string, colour):\n",
    "    return int(group.group(1)) if (group := re.search(f\"(\\d+)( {colour})\", string)) else 0\n",
    "\n",
    "for colour in ['red', 'green', 'blue']:\n",
    "    games[colour] = games.outcome.apply(lambda x: count_colour(x, colour))\n",
    "\n",
    "# Determine which observations are valid\n",
    "games['is_valid']=0\n",
    "games.loc[ (games['red'] <= 12)  & \n",
    "    (games['green'] <= 13) &\n",
    "    (games['blue'] <= 14),'is_valid']=1\n",
    "\n",
    "\n"
   ]
  },
  {
   "cell_type": "code",
   "execution_count": 167,
   "metadata": {},
   "outputs": [
    {
     "name": "stdout",
     "output_type": "stream",
     "text": [
      "Number of valid games: 2105\n"
     ]
    }
   ],
   "source": [
    "# Solution to part 1\n",
    "valid_games=games.groupby(\"number\").agg({'is_valid':lambda x: all(x)}).reset_index()\n",
    "\n",
    "ans = valid_games.loc[valid_games.is_valid==True, 'number'].sum()\n",
    "\n",
    "\n",
    "print(f\"Number of valid games: {ans}\")"
   ]
  },
  {
   "cell_type": "code",
   "execution_count": 168,
   "metadata": {},
   "outputs": [
    {
     "name": "stdout",
     "output_type": "stream",
     "text": [
      "Power of the cubes: 72422\n"
     ]
    }
   ],
   "source": [
    "# Solution to part 2\n",
    "\n",
    "ans = games.groupby('number').agg({'red':\"max\",'green':\"max\",'blue':\"max\"}).prod(axis=1).sum()\n",
    "\n",
    "print(f\"Power of the cubes: {ans}\")"
   ]
  }
 ],
 "metadata": {
  "kernelspec": {
   "display_name": "aoc-2023",
   "language": "python",
   "name": "python3"
  },
  "language_info": {
   "codemirror_mode": {
    "name": "ipython",
    "version": 3
   },
   "file_extension": ".py",
   "mimetype": "text/x-python",
   "name": "python",
   "nbconvert_exporter": "python",
   "pygments_lexer": "ipython3",
   "version": "3.11.6"
  }
 },
 "nbformat": 4,
 "nbformat_minor": 2
}
