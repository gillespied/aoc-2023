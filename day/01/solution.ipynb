{
 "cells": [
  {
   "cell_type": "code",
   "execution_count": 1,
   "metadata": {},
   "outputs": [],
   "source": [
    "import pandas as pd\n",
    "import re\n",
    "\n",
    "data = pd.read_csv(\"./data/input.txt\", header=None)\n",
    "\n",
    "data.columns = ['calibration']\n"
   ]
  },
  {
   "cell_type": "code",
   "execution_count": 2,
   "metadata": {},
   "outputs": [
    {
     "name": "stdout",
     "output_type": "stream",
     "text": [
      "Part 1: The sum of the calibration values (test): 142\n",
      "Part 1: The sum of the calibration values: 54450\n"
     ]
    }
   ],
   "source": [
    "# Part 1 - get the first and last numeric values \n",
    "\n",
    "def get_first_and_last(item):\n",
    "   rp = 1\n",
    "   left = None\n",
    "   while rp < len(item)+1:\n",
    "      substring = item[:rp]\n",
    "      if match := re.search(\"\\d\", substring):\n",
    "         left = match[0]\n",
    "      if left:\n",
    "         break\n",
    "      rp = rp + 1  \n",
    "\n",
    "   lp = -1\n",
    "   right = None\n",
    "   while lp > -1*(len(item)+2):\n",
    "      substring = item[lp:]\n",
    "      if match := re.search(\"\\d\", substring):\n",
    "         right = match[0]\n",
    "      if right:\n",
    "         break\n",
    "      lp = lp - 1  \n",
    "   \n",
    "   return int(str(left)+str(right))\n",
    "\n",
    "\n",
    "tests = [\"1abc2\",\n",
    "\"pqr3stu8vwx\",\n",
    "\"a1b2c3d4e5f\",\n",
    "\"treb7uchet\",]\n",
    "\n",
    "ans = sum([get_first_and_last(test) for test in tests])\n",
    "print(f\"Part 1: The sum of the calibration values (test): {ans}\")\n",
    "\n",
    "\n",
    "ans = sum([get_first_and_last(test) for test in data.calibration.to_list()])\n",
    "print(f\"Part 1: The sum of the calibration values: {ans}\")"
   ]
  },
  {
   "cell_type": "code",
   "execution_count": 3,
   "metadata": {},
   "outputs": [],
   "source": [
    "string_to_num = {\n",
    "    \"one\":1,\n",
    "    \"two\":2,\n",
    "    \"three\":3,\n",
    "    \"four\":4,\n",
    "    \"five\":5, \n",
    "    \"six\":6,\n",
    "    \"seven\":7,\n",
    "    \"eight\":8,\n",
    "    \"nine\":9,\n",
    "}\n",
    "\n",
    "search_string = '|'.join([f'({x})' for x in string_to_num.keys()])"
   ]
  },
  {
   "cell_type": "code",
   "execution_count": 4,
   "metadata": {},
   "outputs": [
    {
     "name": "stdout",
     "output_type": "stream",
     "text": [
      "The sum of all the (test) calibration values: 281\n"
     ]
    }
   ],
   "source": [
    "def the_new_sounds(item):\n",
    "   rp = 1\n",
    "   left = None\n",
    "   while rp < len(item)+1:\n",
    "      substring = item[:rp]\n",
    "      if match := re.search(\"\\d\", substring):\n",
    "         left = match[0]\n",
    "      elif match := re.search(search_string, substring):\n",
    "         left = string_to_num[match.group(0)]\n",
    "      if left:\n",
    "         break\n",
    "      rp = rp + 1  \n",
    "\n",
    "   lp = -1\n",
    "   right = None\n",
    "   while lp > -1*(len(item)+2):\n",
    "      substring = item[lp:]\n",
    "      if match := re.search(\"\\d\", substring):\n",
    "         right = match[0]\n",
    "      elif match := re.search(search_string, substring):\n",
    "         right = string_to_num[match.group(0)]\n",
    "\n",
    "      if right:\n",
    "         break\n",
    "      lp = lp - 1  \n",
    "   \n",
    "   return int(str(left)+str(right))\n",
    "\n",
    "      \n",
    "               \n",
    "tests = [\"two1nine\",\n",
    "\"eightwothree\",\n",
    "\"abcone2threexyz\",\n",
    "\"xtwone3four\",\n",
    "\"4nineeightseven2\",\n",
    "\"zoneight234\",\n",
    "\"7pqrstsixteen\"]\n",
    "\n",
    "ans = sum([the_new_sounds(item) for item in tests])\n",
    "print(f\"The sum of all the (test) calibration values: {ans}\")"
   ]
  },
  {
   "cell_type": "code",
   "execution_count": 5,
   "metadata": {},
   "outputs": [
    {
     "name": "stdout",
     "output_type": "stream",
     "text": [
      "The sum of all the calibration values: 54265\n"
     ]
    }
   ],
   "source": [
    "ans = sum([the_new_sounds(item) for item in data['calibration'].to_list()])\n",
    "print(f\"The sum of all the calibration values: {ans}\")"
   ]
  },
  {
   "cell_type": "code",
   "execution_count": null,
   "metadata": {},
   "outputs": [],
   "source": []
  }
 ],
 "metadata": {
  "kernelspec": {
   "display_name": "aoc-2023",
   "language": "python",
   "name": "python3"
  },
  "language_info": {
   "codemirror_mode": {
    "name": "ipython",
    "version": 3
   },
   "file_extension": ".py",
   "mimetype": "text/x-python",
   "name": "python",
   "nbconvert_exporter": "python",
   "pygments_lexer": "ipython3",
   "version": "3.11.6"
  }
 },
 "nbformat": 4,
 "nbformat_minor": 2
}
