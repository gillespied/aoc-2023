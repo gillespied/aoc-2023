{
 "cells": [
  {
   "cell_type": "code",
   "execution_count": 24,
   "metadata": {},
   "outputs": [
    {
     "name": "stdout",
     "output_type": "stream",
     "text": [
      "1772145754\n"
     ]
    }
   ],
   "source": [
    "import numpy as np\n",
    "\n",
    "with open(\"./data/input.txt\") as f:\n",
    "    readings = f.readlines()\n",
    "\n",
    "sums = []\n",
    "for reading in readings:\n",
    "    r = np.array([int(i) for i in reading.split()])\n",
    "    predict = [r[-1]]\n",
    "    diff = np.diff(r)\n",
    "    while not all(diff == 0):\n",
    "        predict.append(diff[-1])\n",
    "        diff = np.diff(diff)\n",
    "\n",
    "    sums.append((sum(predict)))\n",
    "\n",
    "print(sum(sums))\n"
   ]
  },
  {
   "cell_type": "code",
   "execution_count": 64,
   "metadata": {},
   "outputs": [
    {
     "name": "stdout",
     "output_type": "stream",
     "text": [
      "867\n"
     ]
    }
   ],
   "source": [
    "with open(\"./data/input.txt\") as f:\n",
    "    readings = f.readlines()\n",
    "\n",
    "def alt_sum(nums):\n",
    "    return sum(nums[::2]) - sum(nums[1::2])\n",
    "\n",
    "\n",
    "sums = []\n",
    "for reading in readings:\n",
    "    # print(\"====================================\")\n",
    "    r = np.array([int(i) for i in reading.split()])\n",
    "    # print(f\"Original number = {r}\")\n",
    "    predict = [r[0]]\n",
    "    diff = np.diff(r)\n",
    "    # print(diff)\n",
    "    while not all(diff == 0):\n",
    "        predict.append(diff[0])\n",
    "        diff = np.diff(diff)\n",
    "        # print(diff)\n",
    "    # print(f\"First ones = {predict}\")\n",
    "    sums.append(alt_sum(predict))\n",
    "\n",
    "print(sum(sums))\n"
   ]
  },
  {
   "cell_type": "code",
   "execution_count": null,
   "metadata": {},
   "outputs": [],
   "source": []
  }
 ],
 "metadata": {
  "kernelspec": {
   "display_name": "aoc-2023",
   "language": "python",
   "name": "python3"
  },
  "language_info": {
   "codemirror_mode": {
    "name": "ipython",
    "version": 3
   },
   "file_extension": ".py",
   "mimetype": "text/x-python",
   "name": "python",
   "nbconvert_exporter": "python",
   "pygments_lexer": "ipython3",
   "version": "3.11.6"
  }
 },
 "nbformat": 4,
 "nbformat_minor": 2
}
