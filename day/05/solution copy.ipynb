{
 "cells": [
  {
   "cell_type": "code",
   "execution_count": 50,
   "metadata": {},
   "outputs": [],
   "source": [
    "import re\n",
    "with open(\"./data/input.txt\") as f:\n",
    "    alma = f.read()\n",
    "\n",
    "alma = alma.split(\"\\n\\n\")\n",
    "seeds = alma.pop(0)\n",
    "    "
   ]
  },
  {
   "cell_type": "code",
   "execution_count": 51,
   "metadata": {},
   "outputs": [],
   "source": [
    "def convert_vals_to_ints(maps):\n",
    "   return [[int(m) for m in map.split()] for map in maps]\n",
    "\n",
    "def get_mapping(line):\n",
    "    map = re.match(r\"[a-z\\-]+\", line).group(0)\n",
    "    vals = re.findall(r\"\\n(\\d+\\s+\\d+\\s+\\d+)\", line)\n",
    "    return map, convert_vals_to_ints(vals)\n",
    "\n",
    "\n",
    "def return_target(to_be_mapped, map):\n",
    "    for row in map:\n",
    "        source, destination, range = tuple(row)\n",
    "        if (to_be_mapped >= source) and (to_be_mapped < (source + range)):\n",
    "            return destination + (to_be_mapped-source)\n",
    "    return to_be_mapped"
   ]
  },
  {
   "cell_type": "code",
   "execution_count": 52,
   "metadata": {},
   "outputs": [],
   "source": [
    "seeds = [int(seed) for seed in seeds.split(\":\")[1].split()]"
   ]
  },
  {
   "cell_type": "code",
   "execution_count": 53,
   "metadata": {},
   "outputs": [],
   "source": [
    "\n",
    "\n",
    "all_the_maps = {}\n",
    "for row in alma:\n",
    "    map, vals = get_mapping(row)\n",
    "    all_the_maps[map]=vals\n"
   ]
  },
  {
   "cell_type": "code",
   "execution_count": 54,
   "metadata": {},
   "outputs": [],
   "source": [
    "def map_seed_to_end(seed):\n",
    "    for key, val in all_the_maps.items():\n",
    "        # print(f\"{key:25}:  seed in {seed}: seed out {return_target(seed, val)}\")\n",
    "        seed = return_target(seed, val)\n",
    "    \n",
    "    return seed\n",
    "\n",
    "\n"
   ]
  },
  {
   "cell_type": "code",
   "execution_count": 55,
   "metadata": {},
   "outputs": [],
   "source": [
    "def chunk_range(start_seed, end_seed, step_size):\n",
    "    chunk = [i for i in range(start_seed, end_seed, step_size)]\n",
    "    chunk.append(end_seed)\n",
    "    return chunk\n"
   ]
  },
  {
   "cell_type": "code",
   "execution_count": 56,
   "metadata": {},
   "outputs": [],
   "source": [
    "def chunk_search_min(start_range, end_range, INT):\n",
    "    # INT = 1_000_000\n",
    "    while INT > 0: \n",
    "        input_seeds = chunk_range(start_range, end_range, INT)\n",
    "        # print(input_seeds)\n",
    "        output_seeds = [map_seed_to_end(interval) for interval in input_seeds]\n",
    "        # print(f\"Checked interval:\\t {start_range:9,} - {end_range:9,} | Interval size {(end_range-start_range):,} | Number Steps {len(input_seeds)}\")\n",
    "        \n",
    "        min_index = output_seeds.index(min(output_seeds))\n",
    "        min_interval = input_seeds[min_index]\n",
    "\n",
    "        # print(f\"Min index {min_index}: Min Input {min_interval:9,}\")\n",
    "        start_range = min_interval-INT\n",
    "        end_range = min_interval+INT\n",
    "        INT = INT//10 \n",
    "\n",
    "    return output_seeds[min_index]\n"
   ]
  },
  {
   "cell_type": "code",
   "execution_count": 57,
   "metadata": {},
   "outputs": [
    {
     "name": "stdout",
     "output_type": "stream",
     "text": [
      "[[2906961955   52237479]\n",
      " [1600322402  372221628]\n",
      " [2347782594  164705568]\n",
      " [ 541904540   89745770]\n",
      " [ 126821306  192539923]\n",
      " [3411274151  496169308]\n",
      " [ 919015581    8667739]\n",
      " [ 654599767  160781040]\n",
      " [3945616935   85197451]\n",
      " [ 999146581  344584779]]\n",
      "[[ 126821306  319361229]\n",
      " [ 541904540  631650310]\n",
      " [ 654599767  815380807]\n",
      " [ 919015581  927683320]\n",
      " [ 999146581 1343731360]\n",
      " [1600322402 1972544030]\n",
      " [2347782594 2512488162]\n",
      " [2906961955 2959199434]\n",
      " [3411274151 3907443459]\n",
      " [3945616935 4030814386]]\n"
     ]
    }
   ],
   "source": [
    "import numpy as np\n",
    "seed_array = np.array(seeds).reshape(-1, 2)\n",
    "\n",
    "print(seed_array)\n",
    "seed_array[:, 1] = seed_array[:, 1] + seed_array[:, 0]\n",
    "seed_array.sort(0)\n",
    "\n",
    "print(seed_array)"
   ]
  },
  {
   "cell_type": "code",
   "execution_count": 58,
   "metadata": {},
   "outputs": [
    {
     "name": "stdout",
     "output_type": "stream",
     "text": [
      "[3411274151 3907443459]\n"
     ]
    },
    {
     "data": {
      "text/plain": [
       "2152470424"
      ]
     },
     "execution_count": 58,
     "metadata": {},
     "output_type": "execute_result"
    }
   ],
   "source": [
    "for s in seed_array:\n",
    "    if s[0] <= 3876934459 <= s[1]:\n",
    "        print(s)\n",
    "\n",
    "\n",
    "chunk_search_min(3876134459, 3876934459, 10)\n"
   ]
  },
  {
   "cell_type": "code",
   "execution_count": 59,
   "metadata": {},
   "outputs": [
    {
     "data": {
      "text/plain": [
       "2835130687"
      ]
     },
     "execution_count": 59,
     "metadata": {},
     "output_type": "execute_result"
    }
   ],
   "source": [
    "map_seed_to_end(56931769)"
   ]
  },
  {
   "cell_type": "markdown",
   "metadata": {},
   "source": [
    "map_seed_to_end(56931769)\n",
    "3876934459"
   ]
  },
  {
   "cell_type": "markdown",
   "metadata": {},
   "source": []
  }
 ],
 "metadata": {
  "kernelspec": {
   "display_name": "aoc-2023",
   "language": "python",
   "name": "python3"
  },
  "language_info": {
   "codemirror_mode": {
    "name": "ipython",
    "version": 3
   },
   "file_extension": ".py",
   "mimetype": "text/x-python",
   "name": "python",
   "nbconvert_exporter": "python",
   "pygments_lexer": "ipython3",
   "version": "3.11.6"
  }
 },
 "nbformat": 4,
 "nbformat_minor": 2
}
