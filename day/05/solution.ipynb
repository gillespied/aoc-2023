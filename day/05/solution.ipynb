{
 "cells": [
  {
   "cell_type": "code",
   "execution_count": 73,
   "metadata": {},
   "outputs": [],
   "source": [
    "import re\n",
    "with open(\"./data/input.txt\") as f:\n",
    "    alma = f.read()\n",
    "\n",
    "alma = alma.split(\"\\n\\n\")\n",
    "seeds = alma.pop(0)\n",
    "    "
   ]
  },
  {
   "cell_type": "code",
   "execution_count": 74,
   "metadata": {},
   "outputs": [],
   "source": [
    "def convert_vals_to_ints(maps):\n",
    "   return [[int(m) for m in map.split()] for map in maps]\n",
    "\n",
    "def get_mapping(line):\n",
    "    map = re.match(r\"[a-z\\-]+\", line).group(0)\n",
    "    vals = re.findall(r\"\\n(\\d+\\s+\\d+\\s+\\d+)\", line)\n",
    "    return map, convert_vals_to_ints(vals)\n",
    "\n",
    "\n",
    "def return_target(to_be_mapped, map):\n",
    "    for row in map:\n",
    "        destination, source, range = tuple(row)\n",
    "        if (to_be_mapped >= source) and (to_be_mapped < (source + range)):\n",
    "            return destination + (to_be_mapped-source)\n",
    "    return to_be_mapped"
   ]
  },
  {
   "cell_type": "code",
   "execution_count": 75,
   "metadata": {},
   "outputs": [],
   "source": [
    "seeds = [int(seed) for seed in seeds.split(\":\")[1].split()]"
   ]
  },
  {
   "cell_type": "code",
   "execution_count": 76,
   "metadata": {},
   "outputs": [],
   "source": [
    "all_the_maps = {}\n",
    "for row in alma:\n",
    "    map, vals = get_mapping(row)\n",
    "    all_the_maps[map]=vals\n"
   ]
  },
  {
   "cell_type": "code",
   "execution_count": 77,
   "metadata": {},
   "outputs": [
    {
     "data": {
      "text/plain": [
       "486613012"
      ]
     },
     "execution_count": 77,
     "metadata": {},
     "output_type": "execute_result"
    }
   ],
   "source": [
    "def map_seed_to_end(seed):\n",
    "    for key, val in all_the_maps.items():\n",
    "        # print(f\"{key:25}:  seed in {seed}: seed out {return_target(seed, val)}\")\n",
    "        seed = return_target(seed, val)\n",
    "    \n",
    "    return seed\n",
    "\n",
    "min([map_seed_to_end(seed) for seed in seeds])\n"
   ]
  },
  {
   "cell_type": "markdown",
   "metadata": {},
   "source": [
    "486613012 is correct!"
   ]
  },
  {
   "cell_type": "code",
   "execution_count": 78,
   "metadata": {},
   "outputs": [],
   "source": [
    "# # part 2 \n",
    "# import math\n",
    "# seed_start = 2906961955\n",
    "# seed_range = 52237479\n",
    "# ans = math.inf\n",
    "# for i in range(seed_start, seed_start+seed_range):\n",
    "#     ans = min(map_seed_to_end(i), ans)"
   ]
  },
  {
   "cell_type": "code",
   "execution_count": 79,
   "metadata": {},
   "outputs": [
    {
     "name": "stdout",
     "output_type": "stream",
     "text": [
      "[2906961955, 52237479, 1600322402, 372221628, 2347782594, 164705568, 541904540, 89745770, 126821306, 192539923, 3411274151, 496169308, 919015581, 8667739, 654599767, 160781040, 3945616935, 85197451, 999146581, 344584779]\n"
     ]
    },
    {
     "data": {
      "text/plain": [
       "array([[ 126821306,  319361229],\n",
       "       [ 541904540,  631650310],\n",
       "       [ 654599767,  815380807],\n",
       "       [ 919015581,  927683320],\n",
       "       [ 999146581, 1343731360],\n",
       "       [1600322402, 1972544030],\n",
       "       [2347782594, 2512488162],\n",
       "       [2906961955, 2959199434],\n",
       "       [3411274151, 3907443459],\n",
       "       [3945616935, 4030814386]])"
      ]
     },
     "execution_count": 79,
     "metadata": {},
     "output_type": "execute_result"
    }
   ],
   "source": [
    "import numpy as np\n",
    "\n",
    "print(seeds)\n",
    "\n",
    "seed_array = np.array(seeds).reshape(-1, 2)\n",
    "seed_array[:, 1] = seed_array[:, 1] + seed_array[:, 0]\n",
    "seed_array.sort(0)\n",
    "seed_array\n",
    "\n",
    "\n",
    "\n",
    "\n"
   ]
  },
  {
   "cell_type": "code",
   "execution_count": 80,
   "metadata": {},
   "outputs": [
    {
     "data": {
      "text/plain": [
       "[(2906961955, 52237479),\n",
       " (1600322402, 372221628),\n",
       " (2347782594, 164705568),\n",
       " (541904540, 89745770),\n",
       " (126821306, 192539923),\n",
       " (3411274151, 496169308),\n",
       " (919015581, 8667739),\n",
       " (654599767, 160781040),\n",
       " (3945616935, 85197451),\n",
       " (999146581, 344584779)]"
      ]
     },
     "execution_count": 80,
     "metadata": {},
     "output_type": "execute_result"
    }
   ],
   "source": [
    "# Convert to 2D array\n",
    "seeds_2d = [tuple(seeds[i:i + 2]) for i in range(0, len(seeds), 2)]\n",
    "seeds_2d\n"
   ]
  },
  {
   "cell_type": "code",
   "execution_count": 82,
   "metadata": {},
   "outputs": [
    {
     "name": "stdout",
     "output_type": "stream",
     "text": [
      "[4225564962, 127158107, 239072070, 1254705509, 1312864011, 374323335, 942540950, 197937586, 70478641, 56931769]\n"
     ]
    }
   ],
   "source": [
    "import concurrent.futures\n",
    "import math\n",
    "\n",
    "def find_min_seed_for_range(seed_start, seed_range):\n",
    "    ans = math.inf\n",
    "    for i in range(seed_start, seed_start + seed_range):\n",
    "        ans = min(map_seed_to_end(i), ans)  # Assuming map_seed_to_end function is defined\n",
    "    return ans\n",
    "\n",
    "\n",
    "future_results = []\n",
    "with concurrent.futures.ThreadPoolExecutor(max_workers=10) as executor:\n",
    "    # Submit the function to run asynchronously on each argument\n",
    "    future_results = [executor.submit(find_min_seed_for_range, *arg) for arg in seeds_2d]\n",
    "\n",
    "    # Gather the results as they're completed\n",
    "    final_results = []\n",
    "    for future in concurrent.futures.as_completed(future_results):\n",
    "        final_results.append(future.result())\n",
    "\n",
    "print(final_results)\n",
    "\n"
   ]
  },
  {
   "cell_type": "code",
   "execution_count": 83,
   "metadata": {},
   "outputs": [
    {
     "data": {
      "text/plain": [
       "56931769"
      ]
     },
     "execution_count": 83,
     "metadata": {},
     "output_type": "execute_result"
    }
   ],
   "source": [
    "min(final_results)"
   ]
  },
  {
   "cell_type": "code",
   "execution_count": 85,
   "metadata": {},
   "outputs": [],
   "source": [
    "# compute backwards from the lowest number\n",
    "# destination, source, range\n",
    "\n",
    "# some kind of search \n",
    "\n",
    "\n",
    "\n"
   ]
  },
  {
   "cell_type": "code",
   "execution_count": 86,
   "metadata": {},
   "outputs": [
    {
     "name": "stdout",
     "output_type": "stream",
     "text": [
      "[[2906961955   52237479]\n",
      " [1600322402  372221628]\n",
      " [2347782594  164705568]\n",
      " [ 541904540   89745770]\n",
      " [ 126821306  192539923]\n",
      " [3411274151  496169308]\n",
      " [ 919015581    8667739]\n",
      " [ 654599767  160781040]\n",
      " [3945616935   85197451]\n",
      " [ 999146581  344584779]]\n",
      "[[ 126821306  319361229]\n",
      " [ 541904540  631650310]\n",
      " [ 654599767  815380807]\n",
      " [ 919015581  927683320]\n",
      " [ 999146581 1343731360]\n",
      " [1600322402 1972544030]\n",
      " [2347782594 2512488162]\n",
      " [2906961955 2959199434]\n",
      " [3411274151 3907443459]\n",
      " [3945616935 4030814386]]\n",
      "[3411274151 3907443459]\n"
     ]
    },
    {
     "ename": "TypeError",
     "evalue": "'int' object is not callable",
     "output_type": "error",
     "traceback": [
      "\u001b[0;31m---------------------------------------------------------------------------\u001b[0m",
      "\u001b[0;31mTypeError\u001b[0m                                 Traceback (most recent call last)",
      "\u001b[1;32m/Users/david.gillespie/aoc-2023/day/05/solution.ipynb Cell 13\u001b[0m line \u001b[0;36m3\n\u001b[1;32m     <a href='vscode-notebook-cell:/Users/david.gillespie/aoc-2023/day/05/solution.ipynb#X43sZmlsZQ%3D%3D?line=33'>34</a>\u001b[0m     \u001b[39mif\u001b[39;00m s[\u001b[39m0\u001b[39m] \u001b[39m<\u001b[39m\u001b[39m=\u001b[39m \u001b[39m3876934459\u001b[39m \u001b[39m<\u001b[39m\u001b[39m=\u001b[39m s[\u001b[39m1\u001b[39m]:\n\u001b[1;32m     <a href='vscode-notebook-cell:/Users/david.gillespie/aoc-2023/day/05/solution.ipynb#X43sZmlsZQ%3D%3D?line=34'>35</a>\u001b[0m         \u001b[39mprint\u001b[39m(s)\n\u001b[0;32m---> <a href='vscode-notebook-cell:/Users/david.gillespie/aoc-2023/day/05/solution.ipynb#X43sZmlsZQ%3D%3D?line=37'>38</a>\u001b[0m chunk_search_min(\u001b[39m3876134459\u001b[39;49m, \u001b[39m3876934459\u001b[39;49m, \u001b[39m10\u001b[39;49m)\n",
      "\u001b[1;32m/Users/david.gillespie/aoc-2023/day/05/solution.ipynb Cell 13\u001b[0m line \u001b[0;36m9\n\u001b[1;32m      <a href='vscode-notebook-cell:/Users/david.gillespie/aoc-2023/day/05/solution.ipynb#X43sZmlsZQ%3D%3D?line=5'>6</a>\u001b[0m \u001b[39mdef\u001b[39;00m \u001b[39mchunk_search_min\u001b[39m(start_range, end_range, INT):\n\u001b[1;32m      <a href='vscode-notebook-cell:/Users/david.gillespie/aoc-2023/day/05/solution.ipynb#X43sZmlsZQ%3D%3D?line=6'>7</a>\u001b[0m     \u001b[39m# INT = 1_000_000\u001b[39;00m\n\u001b[1;32m      <a href='vscode-notebook-cell:/Users/david.gillespie/aoc-2023/day/05/solution.ipynb#X43sZmlsZQ%3D%3D?line=7'>8</a>\u001b[0m     \u001b[39mwhile\u001b[39;00m INT \u001b[39m>\u001b[39m \u001b[39m0\u001b[39m: \n\u001b[0;32m----> <a href='vscode-notebook-cell:/Users/david.gillespie/aoc-2023/day/05/solution.ipynb#X43sZmlsZQ%3D%3D?line=8'>9</a>\u001b[0m         input_seeds \u001b[39m=\u001b[39m chunk_range(start_range, end_range, INT)\n\u001b[1;32m     <a href='vscode-notebook-cell:/Users/david.gillespie/aoc-2023/day/05/solution.ipynb#X43sZmlsZQ%3D%3D?line=9'>10</a>\u001b[0m         \u001b[39m# print(input_seeds)\u001b[39;00m\n\u001b[1;32m     <a href='vscode-notebook-cell:/Users/david.gillespie/aoc-2023/day/05/solution.ipynb#X43sZmlsZQ%3D%3D?line=10'>11</a>\u001b[0m         output_seeds \u001b[39m=\u001b[39m [map_seed_to_end(interval) \u001b[39mfor\u001b[39;00m interval \u001b[39min\u001b[39;00m input_seeds]\n",
      "\u001b[1;32m/Users/david.gillespie/aoc-2023/day/05/solution.ipynb Cell 13\u001b[0m line \u001b[0;36m2\n\u001b[1;32m      <a href='vscode-notebook-cell:/Users/david.gillespie/aoc-2023/day/05/solution.ipynb#X43sZmlsZQ%3D%3D?line=0'>1</a>\u001b[0m \u001b[39mdef\u001b[39;00m \u001b[39mchunk_range\u001b[39m(start_seed, end_seed, step_size):\n\u001b[0;32m----> <a href='vscode-notebook-cell:/Users/david.gillespie/aoc-2023/day/05/solution.ipynb#X43sZmlsZQ%3D%3D?line=1'>2</a>\u001b[0m     chunk \u001b[39m=\u001b[39m [i \u001b[39mfor\u001b[39;00m i \u001b[39min\u001b[39;00m \u001b[39mrange\u001b[39;49m(start_seed, end_seed, step_size)]\n\u001b[1;32m      <a href='vscode-notebook-cell:/Users/david.gillespie/aoc-2023/day/05/solution.ipynb#X43sZmlsZQ%3D%3D?line=2'>3</a>\u001b[0m     chunk\u001b[39m.\u001b[39mappend(end_seed)\n\u001b[1;32m      <a href='vscode-notebook-cell:/Users/david.gillespie/aoc-2023/day/05/solution.ipynb#X43sZmlsZQ%3D%3D?line=3'>4</a>\u001b[0m     \u001b[39mreturn\u001b[39;00m chunk\n",
      "\u001b[0;31mTypeError\u001b[0m: 'int' object is not callable"
     ]
    }
   ],
   "source": [
    "def chunk_range(start_seed, end_seed, step_size):\n",
    "    chunk = [i for i in range(start_seed, end_seed, step_size)]\n",
    "    chunk.append(end_seed)\n",
    "    return chunk\n",
    "\n",
    "def chunk_search_min(start_range, end_range, INT):\n",
    "    # INT = 1_000_000\n",
    "    while INT > 0: \n",
    "        input_seeds = chunk_range(start_range, end_range, INT)\n",
    "        # print(input_seeds)\n",
    "        output_seeds = [map_seed_to_end(interval) for interval in input_seeds]\n",
    "        # print(f\"Checked interval:\\t {start_range:9,} - {end_range:9,} | Interval size {(end_range-start_range):,} | Number Steps {len(input_seeds)}\")\n",
    "        \n",
    "        min_index = output_seeds.index(min(output_seeds))\n",
    "        min_interval = input_seeds[min_index]\n",
    "\n",
    "        # print(f\"Min index {min_index}: Min Input {min_interval:9,}\")\n",
    "        start_range = min_interval-INT\n",
    "        end_range = min_interval+INT\n",
    "        INT = INT//10 \n",
    "\n",
    "    return output_seeds[min_index]\n",
    "\n",
    "import numpy as np\n",
    "seed_array = np.array(seeds).reshape(-1, 2)\n",
    "\n",
    "print(seed_array)\n",
    "seed_array[:, 1] = seed_array[:, 1] + seed_array[:, 0]\n",
    "seed_array.sort(0)\n",
    "\n",
    "print(seed_array)\n",
    "\n",
    "for s in seed_array:\n",
    "    if s[0] <= 3876934459 <= s[1]:\n",
    "        print(s)\n",
    "\n",
    "\n",
    "chunk_search_min(3876134459, 3876934459, 10)"
   ]
  },
  {
   "cell_type": "code",
   "execution_count": 87,
   "metadata": {},
   "outputs": [],
   "source": [
    "def chunk_range(start_seed, end_seed, step_size):\n",
    "    chunk = [i for i in range(start_seed, end_seed, step_size)]\n",
    "    chunk.append(end_seed)\n",
    "    return chunk"
   ]
  },
  {
   "cell_type": "code",
   "execution_count": 88,
   "metadata": {},
   "outputs": [
    {
     "ename": "TypeError",
     "evalue": "'int' object is not callable",
     "output_type": "error",
     "traceback": [
      "\u001b[0;31m---------------------------------------------------------------------------\u001b[0m",
      "\u001b[0;31mTypeError\u001b[0m                                 Traceback (most recent call last)",
      "\u001b[1;32m/Users/david.gillespie/aoc-2023/day/05/solution.ipynb Cell 15\u001b[0m line \u001b[0;36m1\n\u001b[0;32m----> <a href='vscode-notebook-cell:/Users/david.gillespie/aoc-2023/day/05/solution.ipynb#X45sZmlsZQ%3D%3D?line=0'>1</a>\u001b[0m chunk_range(\u001b[39m1\u001b[39;49m, \u001b[39m100\u001b[39;49m, \u001b[39m1\u001b[39;49m)\n",
      "\u001b[1;32m/Users/david.gillespie/aoc-2023/day/05/solution.ipynb Cell 15\u001b[0m line \u001b[0;36m2\n\u001b[1;32m      <a href='vscode-notebook-cell:/Users/david.gillespie/aoc-2023/day/05/solution.ipynb#X45sZmlsZQ%3D%3D?line=0'>1</a>\u001b[0m \u001b[39mdef\u001b[39;00m \u001b[39mchunk_range\u001b[39m(start_seed, end_seed, step_size):\n\u001b[0;32m----> <a href='vscode-notebook-cell:/Users/david.gillespie/aoc-2023/day/05/solution.ipynb#X45sZmlsZQ%3D%3D?line=1'>2</a>\u001b[0m     chunk \u001b[39m=\u001b[39m [i \u001b[39mfor\u001b[39;00m i \u001b[39min\u001b[39;00m \u001b[39mrange\u001b[39;49m(start_seed, end_seed, step_size)]\n\u001b[1;32m      <a href='vscode-notebook-cell:/Users/david.gillespie/aoc-2023/day/05/solution.ipynb#X45sZmlsZQ%3D%3D?line=2'>3</a>\u001b[0m     chunk\u001b[39m.\u001b[39mappend(end_seed)\n\u001b[1;32m      <a href='vscode-notebook-cell:/Users/david.gillespie/aoc-2023/day/05/solution.ipynb#X45sZmlsZQ%3D%3D?line=3'>4</a>\u001b[0m     \u001b[39mreturn\u001b[39;00m chunk\n",
      "\u001b[0;31mTypeError\u001b[0m: 'int' object is not callable"
     ]
    }
   ],
   "source": [
    "chunk_range(1, 100, 1)"
   ]
  },
  {
   "cell_type": "code",
   "execution_count": null,
   "metadata": {},
   "outputs": [],
   "source": []
  }
 ],
 "metadata": {
  "kernelspec": {
   "display_name": "aoc-2023",
   "language": "python",
   "name": "python3"
  },
  "language_info": {
   "codemirror_mode": {
    "name": "ipython",
    "version": 3
   },
   "file_extension": ".py",
   "mimetype": "text/x-python",
   "name": "python",
   "nbconvert_exporter": "python",
   "pygments_lexer": "ipython3",
   "version": "3.11.6"
  }
 },
 "nbformat": 4,
 "nbformat_minor": 2
}
