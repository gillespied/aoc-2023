{
 "cells": [
  {
   "cell_type": "code",
   "execution_count": 1,
   "metadata": {},
   "outputs": [],
   "source": [
    "import math\n",
    "\n",
    "def charge_time(time, distance):\n",
    "    \"\"\"The solution is solving a quadratic\"\"\"\n",
    "    top = math.sqrt(time**2 - 4*distance)\n",
    "    return math.floor((time+top)/2) - math.ceil((time-top)/2) + 1\n",
    "\n"
   ]
  },
  {
   "cell_type": "code",
   "execution_count": 2,
   "metadata": {},
   "outputs": [
    {
     "name": "stdout",
     "output_type": "stream",
     "text": [
      "Solution: 1624896\n"
     ]
    }
   ],
   "source": [
    "# Part 1 \n",
    "with open(\"./data/input.txt\") as f:\n",
    "    races = f.readlines()\n",
    "\n",
    "time = [int(t) for t in races[0].split(\":\")[1].split()]\n",
    "distance = [int(d) for d in races[1].split(\":\")[1].split()]\n",
    "num_ways = math.prod([charge_time(t, d) for t, d in zip(time, distance)])\n",
    "print(f\"Solution: {num_ways}\")\n"
   ]
  },
  {
   "cell_type": "code",
   "execution_count": 3,
   "metadata": {},
   "outputs": [
    {
     "name": "stdout",
     "output_type": "stream",
     "text": [
      "Solution: 32583852\n"
     ]
    }
   ],
   "source": [
    "# Part 2\n",
    "\n",
    "time = int(\"\".join(races[0].split(\":\")[1].split()))\n",
    "distance = int(\"\".join(races[1].split(\":\")[1].split()))\n",
    "\n",
    "num_ways = charge_time(time, distance)\n",
    "print(f\"Solution: {num_ways}\")"
   ]
  },
  {
   "cell_type": "code",
   "execution_count": null,
   "metadata": {},
   "outputs": [],
   "source": []
  }
 ],
 "metadata": {
  "kernelspec": {
   "display_name": "aoc-2023",
   "language": "python",
   "name": "python3"
  },
  "language_info": {
   "codemirror_mode": {
    "name": "ipython",
    "version": 3
   },
   "file_extension": ".py",
   "mimetype": "text/x-python",
   "name": "python",
   "nbconvert_exporter": "python",
   "pygments_lexer": "ipython3",
   "version": "3.11.6"
  }
 },
 "nbformat": 4,
 "nbformat_minor": 2
}
