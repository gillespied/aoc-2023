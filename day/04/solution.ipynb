{
 "cells": [
  {
   "cell_type": "code",
   "execution_count": 5,
   "metadata": {},
   "outputs": [
    {
     "data": {
      "text/plain": [
       "32001"
      ]
     },
     "execution_count": 5,
     "metadata": {},
     "output_type": "execute_result"
    }
   ],
   "source": [
    "from math import floor\n",
    "\n",
    "with open(\"./data/input.txt\") as f:\n",
    "    cards = f.readlines()\n",
    "\n",
    "def process_line(game_line):\n",
    "    games = game_line.split(\":\")[1].split(\"|\")\n",
    "\n",
    "    winning_numbers = games[0].split()\n",
    "    numbers =  games[1].split()\n",
    "\n",
    "    matched_winners = set(winning_numbers).intersection(set(numbers))\n",
    "\n",
    "    return floor(2**(len(matched_winners)-1))\n",
    "\n",
    "\n",
    "sum([process_line(card) for card in cards])"
   ]
  },
  {
   "cell_type": "code",
   "execution_count": 6,
   "metadata": {},
   "outputs": [
    {
     "data": {
      "text/plain": [
       "32001"
      ]
     },
     "execution_count": 6,
     "metadata": {},
     "output_type": "execute_result"
    }
   ],
   "source": [
    "with open(\"./data/input.txt\") as f:\n",
    "    cards = f.readlines()\n",
    "\n",
    "sum([process_line(card) for card in cards])"
   ]
  },
  {
   "cell_type": "code",
   "execution_count": 7,
   "metadata": {},
   "outputs": [],
   "source": [
    "# from dataclasses import dataclass\n",
    "\n",
    "# @dataclass\n",
    "# class card(line):\n",
    "#     id = extract_id(line)\n",
    "#     outcome = process_line(line)\n",
    "#     current_number =  0\n",
    "#     previously_held = 0 \n",
    "\n",
    "# @dataclass\n",
    "# class card_stack(cards):\n",
    "#     stack = cards\n",
    "\n",
    "#     def process_stack(self):\n",
    "#         for card in self.stack:\n",
    "#             if card.current_number > 0:\n",
    "#                 results.\n",
    "\n",
    "\n",
    "\n",
    "\n",
    "\n",
    "\n",
    "# def process_stack()\n",
    "#     # collect the winning cards\n",
    "#     for card in stack \n",
    "#         get_winners\n",
    "#         allocate_winners\n",
    "#     return list_of_news_cards\n",
    "\n",
    "# def discard_cards(current_stack)\n",
    "#     # count the cards up and throw them away\n",
    "#     total_cards = total_cards + sum(current_stack)\n",
    "\n",
    "\n",
    "    \n",
    "# def process_line(game_line):\n",
    "    \n"
   ]
  },
  {
   "cell_type": "markdown",
   "metadata": {},
   "source": [
    "card_id | winners | used_cards | current_cards | future_cards \n",
    "\n",
    "\n",
    "apply_all_winners creating future cards \n",
    "user_cards = current_cards \n",
    "current_cards = future_cards \n",
    "future_cards = 0 \n",
    "\n",
    "repeat until sum(current_cards) == 0"
   ]
  },
  {
   "cell_type": "code",
   "execution_count": 8,
   "metadata": {},
   "outputs": [
    {
     "name": "stdout",
     "output_type": "stream",
     "text": [
      "Currently have 223 cards\n",
      "Currently have 1258 cards\n",
      "Currently have 5841 cards\n",
      "Currently have 23040 cards\n",
      "Currently have 75781 cards\n",
      "Currently have 206821 cards\n",
      "Currently have 473611 cards\n",
      "Currently have 925754 cards\n",
      "Currently have 1571761 cards\n",
      "Currently have 2355981 cards\n",
      "Currently have 3167286 cards\n",
      "Currently have 3881800 cards\n",
      "Currently have 4415209 cards\n",
      "Currently have 4750462 cards\n",
      "Currently have 4926227 cards\n",
      "Currently have 5002149 cards\n",
      "Currently have 5028708 cards\n",
      "Currently have 5036046 cards\n",
      "Currently have 5037587 cards\n",
      "Currently have 5037818 cards\n",
      "Currently have 5037840 cards\n",
      "Currently have 5037841 cards\n"
     ]
    }
   ],
   "source": [
    "import pandas as pd\n",
    "\n",
    "def get_winners(win, num, card_number):\n",
    "    matched_winners = set(win.split()).intersection(set(num.split()))\n",
    "    return [i for i in range(card_number+1, card_number+len(matched_winners)+1)]\n",
    "\n",
    "def add_winners(win, scale):\n",
    "    cards.loc[win, 'future'] = cards.loc[win, 'future'] + 1*scale\n",
    "\n",
    "cards = pd.read_csv(\"./data/input.txt\", sep=r\":|\\|\", engine='python', header=None)\n",
    "cards.columns = ['card_number', 'winning_numbers', 'numbers']\n",
    "cards['card_number']= cards.card_number.str.extract(r\"(\\d+)\")[0].astype(int)\n",
    "cards.set_index('card_number', inplace=True, drop=False)\n",
    "\n",
    "cards['winners'] = cards.apply(lambda x: get_winners(x.winning_numbers, x.numbers, x.card_number), axis=1)\n",
    "\n",
    "cards[\"used\"] = 0\n",
    "cards[\"current\"] = 1 \n",
    "cards[\"future\"] = 0\n",
    "\n",
    "while cards['current'].sum() > 0:\n",
    "    cards.apply(lambda x: add_winners(x.winners, x.current), axis=1)\n",
    "    cards['used'] = cards['used'] + cards['current']\n",
    "    cards['current'] = cards['future']\n",
    "    cards['future'] = 0\n",
    "    print(f\"Currently have {cards.used.sum()} cards\")\n"
   ]
  },
  {
   "cell_type": "markdown",
   "metadata": {},
   "source": [
    "This doesnt need to be recursive, if i have some time I'll come and fix this.\n"
   ]
  },
  {
   "cell_type": "markdown",
   "metadata": {},
   "source": []
  }
 ],
 "metadata": {
  "kernelspec": {
   "display_name": "aoc-2023",
   "language": "python",
   "name": "python3"
  },
  "language_info": {
   "codemirror_mode": {
    "name": "ipython",
    "version": 3
   },
   "file_extension": ".py",
   "mimetype": "text/x-python",
   "name": "python",
   "nbconvert_exporter": "python",
   "pygments_lexer": "ipython3",
   "version": "3.11.6"
  }
 },
 "nbformat": 4,
 "nbformat_minor": 2
}
