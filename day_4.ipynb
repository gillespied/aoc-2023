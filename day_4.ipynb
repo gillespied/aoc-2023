{
 "cells": [
  {
   "cell_type": "code",
   "execution_count": 1,
   "metadata": {},
   "outputs": [
    {
     "data": {
      "text/plain": [
       "13"
      ]
     },
     "execution_count": 1,
     "metadata": {},
     "output_type": "execute_result"
    }
   ],
   "source": [
    "from math import floor\n",
    "\n",
    "with open(\"day_4_test.txt\") as f:\n",
    "    cards = f.readlines()\n",
    "\n",
    "def process_line(game_line):\n",
    "    games = game_line.split(\":\")[1].split(\"|\")\n",
    "\n",
    "    winning_numbers = games[0].split()\n",
    "    numbers =  games[1].split()\n",
    "\n",
    "    matched_winners = set(winning_numbers).intersection(set(numbers))\n",
    "\n",
    "    return floor(2**(len(matched_winners)-1))\n",
    "\n",
    "\n",
    "sum([process_line(card) for card in cards])"
   ]
  },
  {
   "cell_type": "code",
   "execution_count": 2,
   "metadata": {},
   "outputs": [
    {
     "data": {
      "text/plain": [
       "32001"
      ]
     },
     "execution_count": 2,
     "metadata": {},
     "output_type": "execute_result"
    }
   ],
   "source": [
    "with open(\"day_4.txt\") as f:\n",
    "    cards = f.readlines()\n",
    "\n",
    "sum([process_line(card) for card in cards])"
   ]
  },
  {
   "cell_type": "code",
   "execution_count": null,
   "metadata": {},
   "outputs": [],
   "source": [
    "## Part 2 after work...."
   ]
  }
 ],
 "metadata": {
  "kernelspec": {
   "display_name": "aoc-2023",
   "language": "python",
   "name": "python3"
  },
  "language_info": {
   "codemirror_mode": {
    "name": "ipython",
    "version": 3
   },
   "file_extension": ".py",
   "mimetype": "text/x-python",
   "name": "python",
   "nbconvert_exporter": "python",
   "pygments_lexer": "ipython3",
   "version": "3.11.6"
  }
 },
 "nbformat": 4,
 "nbformat_minor": 2
}
