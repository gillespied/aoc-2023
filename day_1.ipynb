{
 "cells": [
  {
   "cell_type": "code",
   "execution_count": 19,
   "metadata": {},
   "outputs": [],
   "source": [
    "import pandas as pd\n",
    "import re\n",
    "\n",
    "data = pd.read_csv(\"day_1.txt\", header=None)\n",
    "\n",
    "data.columns = ['calibration']\n"
   ]
  },
  {
   "cell_type": "code",
   "execution_count": 20,
   "metadata": {},
   "outputs": [
    {
     "data": {
      "text/plain": [
       "142"
      ]
     },
     "execution_count": 20,
     "metadata": {},
     "output_type": "execute_result"
    }
   ],
   "source": [
    "# Part 1 - get the first and last numeric values \n",
    "\n",
    "def get_first_and_last(item):\n",
    "   rp = 1\n",
    "   left = None\n",
    "   while rp < len(item)+1:\n",
    "      substring = item[:rp]\n",
    "      if match := re.search(\"\\d\", substring):\n",
    "         left = match[0]\n",
    "      if left:\n",
    "         break\n",
    "      rp = rp + 1  \n",
    "\n",
    "   lp = -1\n",
    "   right = None\n",
    "   while lp > -1*(len(item)+2):\n",
    "      substring = item[lp:]\n",
    "      if match := re.search(\"\\d\", substring):\n",
    "         right = match[0]\n",
    "      if right:\n",
    "         break\n",
    "      lp = lp - 1  \n",
    "   \n",
    "   return int(str(left)+str(right))\n",
    "\n",
    "\n",
    "tests = [\"1abc2\",\n",
    "\"pqr3stu8vwx\",\n",
    "\"a1b2c3d4e5f\",\n",
    "\"treb7uchet\",]\n",
    "\n",
    "sum([get_first_and_last(test) for test in tests])"
   ]
  },
  {
   "cell_type": "code",
   "execution_count": 21,
   "metadata": {},
   "outputs": [],
   "source": [
    "string_to_num = {\n",
    "    \"one\":1,\n",
    "    \"two\":2,\n",
    "    \"three\":3,\n",
    "    \"four\":4,\n",
    "    \"five\":5, \n",
    "    \"six\":6,\n",
    "    \"seven\":7,\n",
    "    \"eight\":8,\n",
    "    \"nine\":9,\n",
    "}\n",
    "\n"
   ]
  },
  {
   "cell_type": "code",
   "execution_count": 22,
   "metadata": {},
   "outputs": [
    {
     "data": {
      "text/plain": [
       "281"
      ]
     },
     "execution_count": 22,
     "metadata": {},
     "output_type": "execute_result"
    }
   ],
   "source": [
    "def the_new_sounds(item):\n",
    "   rp = 1\n",
    "   left = None\n",
    "   while rp < len(item)+1:\n",
    "      substring = item[:rp]\n",
    "      if match := re.search(\"\\d\", substring):\n",
    "         left = match[0]\n",
    "      else:\n",
    "         for key, value in string_to_num.items():\n",
    "            if key in substring:\n",
    "               left = value\n",
    "      if left:\n",
    "         break\n",
    "      rp = rp + 1  \n",
    "\n",
    "   lp = -1\n",
    "   right = None\n",
    "   while lp > -1*(len(item)+2):\n",
    "      substring = item[lp:]\n",
    "      if match := re.search(\"\\d\", substring):\n",
    "         right = match[0]\n",
    "      else:\n",
    "         for key, value in string_to_num.items():\n",
    "            if key in substring:\n",
    "               right = value\n",
    "\n",
    "      if right:\n",
    "         break\n",
    "      lp = lp - 1  \n",
    "   \n",
    "   return int(str(left)+str(right))\n",
    "\n",
    "      \n",
    "               \n",
    "tests = [\"two1nine\",\n",
    "\"eightwothree\",\n",
    "\"abcone2threexyz\",\n",
    "\"xtwone3four\",\n",
    "\"4nineeightseven2\",\n",
    "\"zoneight234\",\n",
    "\"7pqrstsixteen\"]\n",
    "\n",
    "sum([the_new_sounds(item) for item in tests])\n"
   ]
  },
  {
   "cell_type": "code",
   "execution_count": 24,
   "metadata": {},
   "outputs": [
    {
     "data": {
      "text/plain": [
       "54265"
      ]
     },
     "execution_count": 24,
     "metadata": {},
     "output_type": "execute_result"
    }
   ],
   "source": [
    "sum([the_new_sounds(item) for item in data['calibration'].to_list()])"
   ]
  },
  {
   "cell_type": "code",
   "execution_count": null,
   "metadata": {},
   "outputs": [],
   "source": []
  }
 ],
 "metadata": {
  "kernelspec": {
   "display_name": "aoc-2023",
   "language": "python",
   "name": "python3"
  },
  "language_info": {
   "codemirror_mode": {
    "name": "ipython",
    "version": 3
   },
   "file_extension": ".py",
   "mimetype": "text/x-python",
   "name": "python",
   "nbconvert_exporter": "python",
   "pygments_lexer": "ipython3",
   "version": "3.11.6"
  }
 },
 "nbformat": 4,
 "nbformat_minor": 2
}
